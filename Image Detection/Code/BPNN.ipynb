{
 "cells": [
  {
   "cell_type": "markdown",
   "metadata": {},
   "source": [
    "# Assignment 3 Task 2-BPNN\n",
    "In this example, I will use PyTorch to train Neural Network detecting hand written digit similar to the lab. Howver we will use EMNIST (Extended-MNIST) datasets on this occasion.  \n",
    "\n",
    "I will be importing the package \"torch\" in order to use `PyTorch` and `heading.py` created by Helen;\n",
    "\n",
    "*There is small changes in `heading.py` to load EMNIST datasets"
   ]
  },
  {
   "cell_type": "code",
   "execution_count": 1,
   "metadata": {},
   "outputs": [],
   "source": [
    "from heading import *\n",
    "import torch"
   ]
  },
  {
   "cell_type": "markdown",
   "metadata": {},
   "source": [
    "### THE EMNIST  (Extended MNIST) Datasets\n",
    "\n",
    "EMNIST contain six different splits provided in this dataset. ByClass, ByMerge, Balanced, Letters, Digits, MNIST. EMNIST MNIST: 70,000 characters. 10 balanced classes. It is a subset of a larger set available from NIST. The images are grey scale, 28x28 pixels. EMNIST dataset structure that directly matches the MNIST dataset"
   ]
  },
  {
   "cell_type": "markdown",
   "metadata": {},
   "source": [
    "### 1. Self-defined Back Propagation Neural Network (BPNN)\n",
    "\n",
    "In this part we create a self-defined BPNN class with the following structural parameters:\n",
    " \n",
    "#### Four fully connected layers: FC_layer_1,  FC_layer_2, FC_layer_3 and FC_layer_4\n",
    " * FC_layer_1 \n",
    "  * Input nodes: 784, \n",
    "  * Output nodes: 400, \n",
    "  * Activation function: ReLU()\n",
    "  \n",
    " Example: `nn.Sequential(nn.Linear(784, 400), nn.ReLU())`\n",
    " \n",
    "  \n",
    " * FC_layer_2\n",
    "  * Input nodes: 400, \n",
    "  * Output nodes: 200, \n",
    "  * Activation function: ReLU()\n",
    "  \n",
    " * FC_layer_3\n",
    "  * input nodes: 200,\n",
    "  * output nodes: 100,\n",
    "  * Activation function: ReLU()\n",
    "  \n",
    " * FC_layer_4\n",
    "  * input nodes: 100,\n",
    "  * output nodes: 10,\n",
    "  \n",
    "#### Output\n",
    "  * output nodes: 10 for 10 classes with each class representing one digit."
   ]
  },
  {
   "cell_type": "markdown",
   "metadata": {},
   "source": [
    "Here we define the BPNN class with the structural parameters above. (Provided by Helen)"
   ]
  },
  {
   "cell_type": "code",
   "execution_count": 2,
   "metadata": {},
   "outputs": [],
   "source": [
    "class BPNN_net(torch.nn.Module):\n",
    "    def __init__(self):\n",
    "        super().__init__()\n",
    "        self.layer1 = nn.Sequential(nn.Linear(784, 400), nn.ReLU())\n",
    "        self.layer2 = nn.Sequential(nn.Linear(400, 200), nn.ReLU())\n",
    "        self.layer3 = nn.Sequential(nn.Linear(200, 100), nn.ReLU())\n",
    "        self.layer4 = nn.Sequential(nn.Linear(100, 10))\n",
    "\n",
    "    def forward(self, x):\n",
    "        x = x.view(-1,784)\n",
    "        x = self.layer1(x)\n",
    "        x = self.layer2(x)\n",
    "        x = self.layer3(x)\n",
    "        x = self.layer4(x)\n",
    "        return x"
   ]
  },
  {
   "cell_type": "markdown",
   "metadata": {},
   "source": [
    "we will create BPNN network using `create_network(network)`."
   ]
  },
  {
   "cell_type": "code",
   "execution_count": 3,
   "metadata": {},
   "outputs": [],
   "source": [
    "BPNN = BPNN_net()\n",
    "net_work = create_network(BPNN)"
   ]
  },
  {
   "cell_type": "markdown",
   "metadata": {},
   "source": [
    "### Load MNIST datasets"
   ]
  },
  {
   "cell_type": "markdown",
   "metadata": {},
   "source": [
    "define the input image size, the default size is 28. "
   ]
  },
  {
   "cell_type": "code",
   "execution_count": 4,
   "metadata": {},
   "outputs": [],
   "source": [
    "image_size = 28"
   ]
  },
  {
   "cell_type": "markdown",
   "metadata": {},
   "source": [
    "resize the image shape to fit different networks."
   ]
  },
  {
   "cell_type": "code",
   "execution_count": 5,
   "metadata": {},
   "outputs": [],
   "source": [
    "transform = resize_image(image_size)"
   ]
  },
  {
   "cell_type": "markdown",
   "metadata": {},
   "source": [
    "Divide the dataset into BATCH_SIZE equal parts for training."
   ]
  },
  {
   "cell_type": "code",
   "execution_count": 6,
   "metadata": {},
   "outputs": [],
   "source": [
    "BATCH_SIZE = 64"
   ]
  },
  {
   "cell_type": "markdown",
   "metadata": {},
   "source": [
    "Load the train data and test data separately by `load_EMNIST_data(transform, batch size, train or not, folder path = 'Data')` method. \n",
    "\n",
    "For training data, we need to set the train argument is True. \n",
    "For testing data, we need to set the train argument is False. \n",
    "\n",
    "*`load_EMNIST_data` function is created by me"
   ]
  },
  {
   "cell_type": "code",
   "execution_count": 7,
   "metadata": {},
   "outputs": [],
   "source": [
    "train_loader = load_EMNIST_data(transform, BATCH_SIZE, train= True, PATH='Data')\n",
    "test_loader = load_EMNIST_data(transform, BATCH_SIZE ,train= False, PATH= 'Data')"
   ]
  },
  {
   "cell_type": "markdown",
   "metadata": {},
   "source": [
    "### Train Model"
   ]
  },
  {
   "cell_type": "markdown",
   "metadata": {},
   "source": [
    "Here we need set the epoch and learning rate."
   ]
  },
  {
   "cell_type": "code",
   "execution_count": 8,
   "metadata": {},
   "outputs": [],
   "source": [
    "EPOCH = 1\n",
    "LR = 0.001"
   ]
  },
  {
   "cell_type": "markdown",
   "metadata": {},
   "source": [
    "Then, we can use `train_model(Network, train loader, learning rate, number of epoch)` to train the model. "
   ]
  },
  {
   "cell_type": "code",
   "execution_count": 9,
   "metadata": {
    "scrolled": true
   },
   "outputs": [
    {
     "name": "stdout",
     "output_type": "stream",
     "text": [
      "[1,100] loss:0.754\n",
      "[1,200] loss:0.288\n",
      "[1,300] loss:0.218\n",
      "[1,400] loss:0.185\n",
      "[1,500] loss:0.170\n",
      "[1,600] loss:0.152\n",
      "[1,700] loss:0.130\n",
      "[1,800] loss:0.121\n",
      "[1,900] loss:0.120\n"
     ]
    }
   ],
   "source": [
    "trained_model = train_model(net_work, train_loader, LR, EPOCH)"
   ]
  },
  {
   "cell_type": "markdown",
   "metadata": {},
   "source": [
    "### Test Model"
   ]
  },
  {
   "cell_type": "markdown",
   "metadata": {},
   "source": [
    "We can use `test_model(trained model, test loader)`."
   ]
  },
  {
   "cell_type": "code",
   "execution_count": 10,
   "metadata": {},
   "outputs": [
    {
     "name": "stdout",
     "output_type": "stream",
     "text": [
      "correct1:  tensor(9661)\n",
      "Test acc: 0.9661\n"
     ]
    }
   ],
   "source": [
    "test_model(trained_model, test_loader)"
   ]
  },
  {
   "cell_type": "markdown",
   "metadata": {},
   "source": [
    "### Save Model"
   ]
  },
  {
   "cell_type": "markdown",
   "metadata": {},
   "source": [
    "To save this model, we can use the :\n",
    "`torch.save(trained_model, './my_model.pth')`"
   ]
  },
  {
   "cell_type": "code",
   "execution_count": 11,
   "metadata": {},
   "outputs": [],
   "source": [
    "model = trained_model\n",
    "image_size = 28\n",
    "num_of_prediction = 20"
   ]
  },
  {
   "cell_type": "markdown",
   "metadata": {},
   "source": [
    "To see how does it work we can use this code :\n",
    "\n",
    "`predict_image(trained model, image size, number of prediction)`. "
   ]
  },
  {
   "cell_type": "code",
   "execution_count": 12,
   "metadata": {},
   "outputs": [
    {
     "name": "stdout",
     "output_type": "stream",
     "text": [
      "[7 0 6 6 7 9 9 8 9 8 7 6 7 3 5 7 0 4 9 0]\n",
      "The predict result is [7 0 6 6 7 9 9 8 9 8 7 6 2 3 5 7 0 4 9 0]\n"
     ]
    },
    {
     "data": {
      "image/png": "[encoded data removed]",
      "text/plain": [
       "<Figure size 432x288 with 1 Axes>"
      ]
     },
     "metadata": {
      "needs_background": "light"
     },
     "output_type": "display_data"
    }
   ],
   "source": [
    "predict_image(model, image_size, num_of_prediction)"
   ]
  },
  {
   "cell_type": "code",
   "execution_count": null,
   "metadata": {},
   "outputs": [],
   "source": []
  }
 ],
 "metadata": {
  "kernelspec": {
   "display_name": "Python 3",
   "language": "python",
   "name": "python3"
  },
  "language_info": {
   "codemirror_mode": {
    "name": "ipython",
    "version": 3
   },
   "file_extension": ".py",
   "mimetype": "text/x-python",
   "name": "python",
   "nbconvert_exporter": "python",
   "pygments_lexer": "ipython3",
   "version": "3.8.8"
  }
 },
 "nbformat": 4,
 "nbformat_minor": 4
}
