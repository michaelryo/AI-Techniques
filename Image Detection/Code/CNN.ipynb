{
 "cells": [
  {
   "cell_type": "markdown",
   "metadata": {},
   "source": [
    "# Assignment 3 Task 2-CNN\n",
    "In this example, I will use PyTorch to train Neural Network detecting hand written digit similar to the lab. Howver we will use EMNIST (Extended-MNIST) datasets on this occasion.  \n",
    "\n",
    "I will be importing the package \"torch\" in order to use `PyTorch` and `heading.py` created by Helen;\n",
    "\n",
    "*There is small changes in `heading.py` to load EMNIST datasets"
   ]
  },
  {
   "cell_type": "code",
   "execution_count": 1,
   "metadata": {},
   "outputs": [],
   "source": [
    "from heading import *\n",
    "import torch"
   ]
  },
  {
   "cell_type": "markdown",
   "metadata": {},
   "source": [
    "### THE EMNIST  (Extended MNIST) Datasets\n",
    "\n",
    "EMNIST contain six different splits provided in this dataset. ByClass, ByMerge, Balanced, Letters, Digits, MNIST. EMNIST MNIST: 70,000 characters. 10 balanced classes. It is a subset of a larger set available from NIST. The images are grey scale, 28x28 pixels. EMNIST dataset structure that directly matches the MNIST dataset"
   ]
  },
  {
   "cell_type": "markdown",
   "metadata": {},
   "source": [
    "### 1. Self-defined Convolutional Neural Network (CNN)\n",
    "\n",
    "In this part we create a self-defined CNN class with the following structural parameters:\n",
    "#### Input channel:\n",
    "* Input channel number is 1 for gray images (3 for RGB colour images)\n",
    "\n",
    "#### Two convolutional layers: CNV_layer 1 and CNV_layer 2\n",
    "* CNV_layer 1:  \n",
    " * convolutional layer parameters: input channels:1, output channels:16, filter size: 3x3, stride: 2, and padding: 1\n",
    " * max pooling layer: 2x2\n",
    " * activation function: ReLU()\n",
    " * Batch normalisation: 16\n",
    " \n",
    "Example: \n",
    "\n",
    "`torch.nn.Sequential(\n",
    "            torch.nn.Conv2d(input_channels,16,3,2,1),\n",
    "            torch.nn.MaxPool2d(2),\n",
    "            torch.nn.ReLU(),\n",
    "            torch.nn.BatchNorm2d(16)\n",
    "        )`\n",
    "\n",
    "* CNV_layer 2: \n",
    " * convolutional layer: \n",
    "   * input channel:16, \n",
    "   * output channel:32, \n",
    "   * filter size: 3x3, \n",
    "   * panding:1, and \n",
    "   * stride: 1\n",
    " * Max pooling layer:2\n",
    " * Activation function: ReLU()\n",
    " * Batch normalisation: 32\n",
    " \n",
    "#### Flattening \n",
    "The output channels of CNV_layer 2 will be flattened to be a column vector of size 288.\n",
    " \n",
    "#### Three fully connected layers: FC_layer_1,  FC_layer_2 and FC_layer_3\n",
    " * FC_layer_1 \n",
    "  * Input nodes: 288, \n",
    "  * Output nodes: 60, \n",
    "  * Drop out ratio: 0.5\n",
    "  * Activation function: ReLU()\n",
    "  \n",
    "Example: \n",
    "\n",
    "`torch.nn.Sequential(\n",
    "            torch.nn.Linear(288,60),\n",
    "            torch.nn.Dropout(0.5),\n",
    "            torch.nn.ReLU()\n",
    "        )`\n",
    "  \n",
    " * FC_layer_2\n",
    "  * Input nodes: 60, \n",
    "  * Output nodes: 20, \n",
    "  * Drop out ratio: 0.5\n",
    "  * Activation function: ReLU()\n",
    "  \n",
    " * FC_layer_3\n",
    "  * input nodes: 20\n",
    "  * output nodes: 10\n",
    "  \n",
    "#### Output\n",
    "  * output nodes: 10 for 10 classes with each class representing one digit."
   ]
  },
  {
   "cell_type": "markdown",
   "metadata": {},
   "source": [
    "Here we define the CNN class with the structural parameters above. (Provided by Helen)"
   ]
  },
  {
   "cell_type": "code",
   "execution_count": 2,
   "metadata": {},
   "outputs": [],
   "source": [
    "class CONV_net(torch.nn.Module):\n",
    "\n",
    "    def __init__(self, input_channels = 1, output_size = 10):\n",
    "        super().__init__()\n",
    "        \n",
    "        self.conv1 = torch.nn.Sequential(\n",
    "            torch.nn.Conv2d(input_channels,16,3,2,1),\n",
    "            torch.nn.MaxPool2d(2),\n",
    "            torch.nn.ReLU(),\n",
    "            torch.nn.BatchNorm2d(16)\n",
    "        )\n",
    "        self.conv2 = torch.nn.Sequential(\n",
    "            torch.nn.Conv2d(16,32,3,1,1),\n",
    "            torch.nn.MaxPool2d(2),\n",
    "            torch.nn.ReLU(),\n",
    "            torch.nn.BatchNorm2d(32)\n",
    "        )\n",
    "        self.fc1 = torch.nn.Sequential(\n",
    "            torch.nn.Linear(288,60),\n",
    "            torch.nn.Dropout(0.5),\n",
    "            torch.nn.ReLU()\n",
    "        )\n",
    "        self.fc2 = torch.nn.Sequential(\n",
    "            torch.nn.Linear(60,20),\n",
    "            torch.nn.Dropout(0.5),\n",
    "            torch.nn.ReLU()\n",
    "        )\n",
    "        self.fc3 = torch.nn.Linear(20, output_size)\n",
    "\n",
    "    def forward(self, x):\n",
    "        x = self.conv1(x)\n",
    "        x = self.conv2(x)\n",
    "        x = x.view(-1,288)\n",
    "        x = self.fc1(x)\n",
    "        x = self.fc2(x)\n",
    "        x = self.fc3(x)\n",
    "        return x"
   ]
  },
  {
   "cell_type": "markdown",
   "metadata": {},
   "source": [
    "we will create CNN network using `create_network(network)`."
   ]
  },
  {
   "cell_type": "code",
   "execution_count": 3,
   "metadata": {},
   "outputs": [],
   "source": [
    "convlution = CONV_net(input_channels = 1, output_size = 10)\n",
    "net_work = create_network(convlution)"
   ]
  },
  {
   "cell_type": "markdown",
   "metadata": {},
   "source": [
    "### Load MNIST datasets"
   ]
  },
  {
   "cell_type": "markdown",
   "metadata": {},
   "source": [
    "define the input image size, the default size is 28."
   ]
  },
  {
   "cell_type": "code",
   "execution_count": 4,
   "metadata": {},
   "outputs": [],
   "source": [
    "image_size = 28"
   ]
  },
  {
   "cell_type": "markdown",
   "metadata": {},
   "source": [
    "resize the image shape to fit different networks."
   ]
  },
  {
   "cell_type": "code",
   "execution_count": 5,
   "metadata": {},
   "outputs": [],
   "source": [
    "transform = resize_image(image_size)"
   ]
  },
  {
   "cell_type": "markdown",
   "metadata": {},
   "source": [
    "Divide the dataset into BATCH_SIZE equal parts for training."
   ]
  },
  {
   "cell_type": "code",
   "execution_count": 6,
   "metadata": {},
   "outputs": [],
   "source": [
    "BATCH_SIZE = 64"
   ]
  },
  {
   "cell_type": "markdown",
   "metadata": {},
   "source": [
    "Load the train data and test data separately by `load_EMNIST_data(transform, batch size, train or not, folder path = 'Data')` method. \n",
    "\n",
    "For training data, we need to set the train argument is True. \n",
    "For testing data, we need to set the train argument is False. \n",
    "\n",
    "*`load_EMNIST_data` function is created by me"
   ]
  },
  {
   "cell_type": "code",
   "execution_count": 7,
   "metadata": {},
   "outputs": [],
   "source": [
    "train_loader = load_EMNIST_data(transform, BATCH_SIZE, train = True,  PATH = 'Data',split = 'mnist')\n",
    "test_loader = load_EMNIST_data(transform, BATCH_SIZE, train = False, PATH = 'Data',split = 'mnist')"
   ]
  },
  {
   "cell_type": "markdown",
   "metadata": {},
   "source": [
    "### Train Model"
   ]
  },
  {
   "cell_type": "markdown",
   "metadata": {},
   "source": [
    "Here we need set the epoch and learning rate."
   ]
  },
  {
   "cell_type": "code",
   "execution_count": 8,
   "metadata": {},
   "outputs": [],
   "source": [
    "EPOCH = 1\n",
    "LR = 0.001"
   ]
  },
  {
   "cell_type": "markdown",
   "metadata": {},
   "source": [
    "Then, we can use `train_model(Network, train loader, learning rate, number of epoch)` to train the model. "
   ]
  },
  {
   "cell_type": "code",
   "execution_count": 9,
   "metadata": {
    "scrolled": true
   },
   "outputs": [
    {
     "name": "stdout",
     "output_type": "stream",
     "text": [
      "[1,100] loss:1.695\n",
      "[1,200] loss:0.969\n",
      "[1,300] loss:0.717\n",
      "[1,400] loss:0.615\n",
      "[1,500] loss:0.527\n",
      "[1,600] loss:0.480\n",
      "[1,700] loss:0.437\n",
      "[1,800] loss:0.418\n",
      "[1,900] loss:0.414\n"
     ]
    }
   ],
   "source": [
    "trained_model = train_model(net_work, train_loader, LR, EPOCH)"
   ]
  },
  {
   "cell_type": "markdown",
   "metadata": {},
   "source": [
    "### Test Model"
   ]
  },
  {
   "cell_type": "markdown",
   "metadata": {},
   "source": [
    "We can use `test_model(trained model, test loader)`."
   ]
  },
  {
   "cell_type": "code",
   "execution_count": 10,
   "metadata": {},
   "outputs": [
    {
     "name": "stdout",
     "output_type": "stream",
     "text": [
      "correct1:  tensor(9769)\n",
      "Test acc: 0.9769\n"
     ]
    }
   ],
   "source": [
    "test_model(trained_model, test_loader)"
   ]
  },
  {
   "cell_type": "markdown",
   "metadata": {},
   "source": [
    "### Save Model"
   ]
  },
  {
   "cell_type": "markdown",
   "metadata": {},
   "source": [
    "To save this model, we can use the :\n",
    "`torch.save(trained_model, './my_model.pth')`"
   ]
  },
  {
   "cell_type": "code",
   "execution_count": 11,
   "metadata": {},
   "outputs": [],
   "source": [
    "torch.save(trained_model, './my_model.pth')"
   ]
  },
  {
   "cell_type": "markdown",
   "metadata": {},
   "source": [
    "Predict real images, here we need to define model, image size and number of prediction. "
   ]
  },
  {
   "cell_type": "code",
   "execution_count": 12,
   "metadata": {},
   "outputs": [],
   "source": [
    "model = trained_model\n",
    "image_size = 28\n",
    "num_of_prediction = 20"
   ]
  },
  {
   "cell_type": "markdown",
   "metadata": {},
   "source": [
    "To see how does it work we can use this code :\n",
    "\n",
    "`predict_image(trained model, image size, number of prediction)`. "
   ]
  },
  {
   "cell_type": "code",
   "execution_count": 13,
   "metadata": {},
   "outputs": [
    {
     "name": "stdout",
     "output_type": "stream",
     "text": [
      "[7 4 6 4 3 9 7 7 2 8 3 4 0 3 9 5 4 7 3 5]\n",
      "The predict result is [7 4 6 9 3 9 7 7 2 8 3 4 0 3 9 5 4 7 3 5]\n"
     ]
    },
    {
     "data": {
      "image/png": "[encoded data removed]",
      "text/plain": [
       "<Figure size 432x288 with 1 Axes>"
      ]
     },
     "metadata": {
      "needs_background": "light"
     },
     "output_type": "display_data"
    }
   ],
   "source": [
    "predict_image(model, image_size, num_of_prediction)"
   ]
  },
  {
   "cell_type": "code",
   "execution_count": null,
   "metadata": {},
   "outputs": [],
   "source": []
  }
 ],
 "metadata": {
  "interpreter": {
   "hash": "57baa5815c940fdaff4d14510622de9616cae602444507ba5d0b6727c008cbd6"
  },
  "kernelspec": {
   "display_name": "Python 3",
   "language": "python",
   "name": "python3"
  },
  "language_info": {
   "codemirror_mode": {
    "name": "ipython",
    "version": 3
   },
   "file_extension": ".py",
   "mimetype": "text/x-python",
   "name": "python",
   "nbconvert_exporter": "python",
   "pygments_lexer": "ipython3",
   "version": "3.8.8"
  }
 },
 "nbformat": 4,
 "nbformat_minor": 4
}
