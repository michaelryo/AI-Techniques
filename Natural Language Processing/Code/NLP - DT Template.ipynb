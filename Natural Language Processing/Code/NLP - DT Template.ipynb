{
 "cells": [
  {
   "cell_type": "markdown",
   "metadata": {},
   "source": [
    "# Assignment 3 Task 7-Decision Tree (NL)"
   ]
  },
  {
   "cell_type": "code",
   "execution_count": 1,
   "metadata": {},
   "outputs": [],
   "source": [
    "from heading import *\n",
    "from nltk.tokenize import *"
   ]
  },
  {
   "cell_type": "markdown",
   "metadata": {},
   "source": [
    "On this problem I have put the datasets into `text_data` folder.\n",
    "\n",
    "I have split it into negative and positive words with multiple languages in it"
   ]
  },
  {
   "cell_type": "code",
   "execution_count": 2,
   "metadata": {},
   "outputs": [],
   "source": [
    "short_pos = open(\"text_data/PositiveWordsCompile.txt\",\"r\",encoding = 'UTF-8').read()\n",
    "short_neg = open(\"text_data/NegativeWordsCompile.txt\",\"r\",encoding = 'UTF-8').read()"
   ]
  },
  {
   "cell_type": "markdown",
   "metadata": {},
   "source": [
    "Tokenize the positive words samples and negative words samples and save them into two lists of separated words, as short_pos_words and short_neg_words, respectively."
   ]
  },
  {
   "cell_type": "code",
   "execution_count": 3,
   "metadata": {},
   "outputs": [],
   "source": [
    "short_pos_words = word_tokenize(short_pos)\n",
    "short_neg_words = word_tokenize(short_neg)"
   ]
  },
  {
   "cell_type": "markdown",
   "metadata": {},
   "source": [
    "Removing trival tokens, such as punctuations and stop words.\n",
    "First, we remove punctuations using a test: is the token consisting of alphbets or numbers only? If no, remove the token."
   ]
  },
  {
   "cell_type": "code",
   "execution_count": 4,
   "metadata": {},
   "outputs": [],
   "source": [
    "short_pos_words_temp = [w.lower() for w in short_pos_words if w.isalnum()]\n",
    "short_neg_words_temp = [w.lower() for w in short_neg_words if w.isalnum()]"
   ]
  },
  {
   "cell_type": "markdown",
   "metadata": {},
   "source": [
    "Remove stop words. We define a trival word list using a modified stop word list from the stopwords in nltk.corpus. (Can be used [usually for sentence detection] but for this sample I will leave trival words empty)\n",
    "\n",
    "Usually to remove uneccessary repetitive words (this repetitive words can be seen using :\n",
    "\n",
    "`print(all_words.most_common(15))`\n"
   ]
  },
  {
   "cell_type": "code",
   "execution_count": 5,
   "metadata": {},
   "outputs": [],
   "source": [
    "trival_words = []\n",
    "#trival_words = ['than', 'so', 'while', 'her', 'y', 'further', 'll', 'our', \"that'll\", \"you'd\", 'being', 'o', 'through', 'him', 'off', 'd', 'these', 'both', 'the', 'now', 'down', 'should', 'themselves', 'your', 'can', 'having', 'hers', 'who', \"you've\", \"you'll\", 'before', 'such', 'some', 'about', 'with', 'over', 'a', 'because', 'where', 'by', 'why', 'yourself', 'too', 'until', 'm', 'to', 'when', 'other', 'which', 'few', 'very', 're', 'were', 'did', 'during', 'yourselves', 'each', 'them', 'has', \"she's\", 'there', 'at', 'against', 'in', 'whom', 'doing', 'himself', 'an', 'she', 'up', \"you're\", 'out', 'herself', 'shan', 'all', 'was', 'yours', 'only', 'ours', 'again', 'but', 'be', 'will', 'and', 'if', 'just', 'ourselves', 'own', 'between', 'their', 'theirs', 'after', 's', 'or', 'once', 'his', 'ma', 'i', 'that', 'my', 'are', 'more', 've', 'we', 'itself', 't', 'as', 'from', 'am', 'do','is', 'they', 'he', 'those', 'this', 'its', 'into', 'under', 'me', 'you', 'then', 'here', 'myself', 'on', 'same', 'below', 'what', 'have', 'for', 'above', 'no', 'it', 'had', 'any', 'how', 'of']"
   ]
  },
  {
   "cell_type": "code",
   "execution_count": 6,
   "metadata": {},
   "outputs": [],
   "source": [
    "short_pos_words_final = [i for i in short_pos_words_temp if i not in trival_words]\n",
    "short_neg_words_final = [i for i in short_neg_words_temp if i not in trival_words]"
   ]
  },
  {
   "cell_type": "markdown",
   "metadata": {},
   "source": [
    "Create a word list, all_words, from which a subset of words will be selected as features."
   ]
  },
  {
   "cell_type": "code",
   "execution_count": 7,
   "metadata": {},
   "outputs": [],
   "source": [
    "all_words = []"
   ]
  },
  {
   "cell_type": "markdown",
   "metadata": {},
   "source": [
    "Add the lower case of words in the two word lists, short_pos_words_final and short_neg_words_final, to this feature word list, all_words."
   ]
  },
  {
   "cell_type": "code",
   "execution_count": 8,
   "metadata": {},
   "outputs": [],
   "source": [
    "for w in short_pos_words_final:\n",
    "    all_words.append(w.lower())\n",
    "    \n",
    "for w in short_neg_words_final:\n",
    "    all_words.append(w.lower())"
   ]
  },
  {
   "cell_type": "markdown",
   "metadata": {},
   "source": [
    "Then, we can use `nltk.FreqDist(all_words)` method to count the number of occurrences of each word in this feature word list. "
   ]
  },
  {
   "cell_type": "code",
   "execution_count": 9,
   "metadata": {},
   "outputs": [],
   "source": [
    "all_words = nltk.FreqDist(all_words)"
   ]
  },
  {
   "cell_type": "markdown",
   "metadata": {},
   "source": [
    "We can extract 100 keys in all_words as word features. "
   ]
  },
  {
   "cell_type": "code",
   "execution_count": 11,
   "metadata": {},
   "outputs": [],
   "source": [
    "word_features = [i[0] for i in all_words.most_common(100)]"
   ]
  },
  {
   "cell_type": "markdown",
   "metadata": {},
   "source": [
    "Create an empty list, called documents. This list is used to hold all the input samples."
   ]
  },
  {
   "cell_type": "code",
   "execution_count": 12,
   "metadata": {},
   "outputs": [],
   "source": [
    "documents = []"
   ]
  },
  {
   "cell_type": "markdown",
   "metadata": {},
   "source": [
    "Separate the positive words samples in \"short_pos\" into segments separated by a new line as shown by '\\n' and add these segments to the document list. Do the same to negative words."
   ]
  },
  {
   "cell_type": "code",
   "execution_count": 13,
   "metadata": {},
   "outputs": [],
   "source": [
    "for r in short_pos.split('\\n'):\n",
    "    documents.append((r,\"pos\"))\n",
    "    \n",
    "for r in short_neg.split('\\n'):\n",
    "    documents.append((r,\"neg\"))"
   ]
  },
  {
   "cell_type": "code",
   "execution_count": 14,
   "metadata": {},
   "outputs": [],
   "source": [
    "featuresets = extract_features(documents, word_features)"
   ]
  },
  {
   "cell_type": "markdown",
   "metadata": {},
   "source": [
    "Then, we can shuffle these words randomly."
   ]
  },
  {
   "cell_type": "code",
   "execution_count": 15,
   "metadata": {},
   "outputs": [],
   "source": [
    "random.shuffle(featuresets)"
   ]
  },
  {
   "cell_type": "markdown",
   "metadata": {},
   "source": [
    "Here, we select the first 80% of sentences as the training dataset and leave the rest sentences as test dataset."
   ]
  },
  {
   "cell_type": "code",
   "execution_count": 16,
   "metadata": {},
   "outputs": [],
   "source": [
    "temp = int(len(featuresets)*0.9)"
   ]
  },
  {
   "cell_type": "code",
   "execution_count": 17,
   "metadata": {},
   "outputs": [],
   "source": [
    "training_set = featuresets[:temp]\n",
    "test_set = featuresets[temp+1:]"
   ]
  },
  {
   "cell_type": "markdown",
   "metadata": {},
   "source": [
    "### AI technique -- Decision tree classifier\n",
    "In order to use this AI technique, we take the following steps.\n",
    "* Step 1. Create `DTClassifier` using `DecisionTreeClassifier()`. \n",
    "\n",
    "Parameter\n",
    "\n",
    "`ccp_alpha, default=0.0`\n",
    "Complexity parameter used for Minimal Cost-Complexity Pruning. The subtree with the largest cost complexity that is smaller than ccp_alpha will be chosen. By default, no pruning is performed.\n",
    "\n",
    "`criterion, {“gini”, “entropy”}, default=”gini”`\n",
    "The function to measure the quality of a split. Supported criteria are “gini” for the Gini impurity and “entropy” for the information gain.\n",
    "\n",
    "`splitter,  {“best”, “random”}, default=”best”`\n",
    "The strategy used to choose the split at each node. Supported strategies are “best” to choose the best split and “random” to choose the best random split."
   ]
  },
  {
   "cell_type": "code",
   "execution_count": 18,
   "metadata": {},
   "outputs": [],
   "source": [
    "DTClassifier = DecisionTreeClassifier(ccp_alpha = 0.0, criterion = 'gini', splitter = 'best')"
   ]
  },
  {
   "cell_type": "markdown",
   "metadata": {},
   "source": [
    "* Step 2. Create an object of `SklearnClassifier`class by calling the method  `SklearnClassifier()` with an argument `DTClassifier`."
   ]
  },
  {
   "cell_type": "code",
   "execution_count": 19,
   "metadata": {},
   "outputs": [],
   "source": [
    "DecisionTree_Classifier = SklearnClassifier(DTClassifier)"
   ]
  },
  {
   "cell_type": "markdown",
   "metadata": {},
   "source": [
    "* Step 3. Train this Decision tree classifier by calling the method `train(my-training-dataset)` through the Decision tree classifier object using the training dataset."
   ]
  },
  {
   "cell_type": "code",
   "execution_count": 20,
   "metadata": {},
   "outputs": [
    {
     "data": {
      "text/plain": [
       "<SklearnClassifier(DecisionTreeClassifier())>"
      ]
     },
     "execution_count": 20,
     "metadata": {},
     "output_type": "execute_result"
    }
   ],
   "source": [
    "DecisionTree_Classifier.train(training_set)"
   ]
  },
  {
   "cell_type": "markdown",
   "metadata": {},
   "source": [
    "* Step 4. Calcualte the accuracy of this classifier against the training dataset, accuracy_training"
   ]
  },
  {
   "cell_type": "code",
   "execution_count": 21,
   "metadata": {},
   "outputs": [],
   "source": [
    "accuracy_train = (nltk.classify.accuracy(DecisionTree_Classifier, training_set))*100"
   ]
  },
  {
   "cell_type": "markdown",
   "metadata": {},
   "source": [
    "* Step 5. Calcualte the accuracy of this classifier against the testing dataset, accuracy_test"
   ]
  },
  {
   "cell_type": "code",
   "execution_count": 22,
   "metadata": {},
   "outputs": [],
   "source": [
    "accuracy_test = (nltk.classify.accuracy(DecisionTree_Classifier, test_set))*100"
   ]
  },
  {
   "cell_type": "markdown",
   "metadata": {},
   "source": [
    "* Step 6. Dispay the accuracy values for both training and test datasets."
   ]
  },
  {
   "cell_type": "code",
   "execution_count": 23,
   "metadata": {},
   "outputs": [
    {
     "name": "stdout",
     "output_type": "stream",
     "text": [
      "Train Accuracy : 62.05957570858786\n",
      "Test Accuracy : 62.17650566487776\n"
     ]
    }
   ],
   "source": [
    "print(\"Train Accuracy : {}\".format(accuracy_train))\n",
    "print(\"Test Accuracy : {}\".format(accuracy_test))"
   ]
  },
  {
   "cell_type": "markdown",
   "metadata": {},
   "source": [
    "* Step 7. Apply the classifier to analyse whether a given input sentence is positive or negative.\n",
    "\n",
    "e.g. \"This place is not nice\"\n",
    "e.g. \"This room is good\""
   ]
  },
  {
   "cell_type": "code",
   "execution_count": 1,
   "metadata": {},
   "outputs": [
    {
     "ename": "NameError",
     "evalue": "name 'DecisionTree_Classifier' is not defined",
     "output_type": "error",
     "traceback": [
      "\u001b[1;31m---------------------------------------------------------------------------\u001b[0m",
      "\u001b[1;31mNameError\u001b[0m                                 Traceback (most recent call last)",
      "\u001b[1;32m<ipython-input-1-ecb51400c031>\u001b[0m in \u001b[0;36m<module>\u001b[1;34m\u001b[0m\n\u001b[1;32m----> 1\u001b[1;33m \u001b[0mDecisionTree_Classifier\u001b[0m\u001b[1;33m.\u001b[0m\u001b[0mclassify\u001b[0m\u001b[1;33m(\u001b[0m\u001b[0mword_feats\u001b[0m\u001b[1;33m(\u001b[0m\u001b[0minput\u001b[0m\u001b[1;33m(\u001b[0m\u001b[1;34m\"Input one Word: \"\u001b[0m\u001b[1;33m)\u001b[0m\u001b[1;33m)\u001b[0m\u001b[1;33m)\u001b[0m\u001b[1;33m\u001b[0m\u001b[1;33m\u001b[0m\u001b[0m\n\u001b[0m",
      "\u001b[1;31mNameError\u001b[0m: name 'DecisionTree_Classifier' is not defined"
     ]
    }
   ],
   "source": [
    "DecisionTree_Classifier.classify(word_feats(input(\"Input one Word: \")))"
   ]
  },
  {
   "cell_type": "code",
   "execution_count": null,
   "metadata": {},
   "outputs": [],
   "source": []
  }
 ],
 "metadata": {
  "kernelspec": {
   "display_name": "Python 3",
   "language": "python",
   "name": "python3"
  },
  "language_info": {
   "codemirror_mode": {
    "name": "ipython",
    "version": 3
   },
   "file_extension": ".py",
   "mimetype": "text/x-python",
   "name": "python",
   "nbconvert_exporter": "python",
   "pygments_lexer": "ipython3",
   "version": "3.8.8"
  }
 },
 "nbformat": 4,
 "nbformat_minor": 4
}
