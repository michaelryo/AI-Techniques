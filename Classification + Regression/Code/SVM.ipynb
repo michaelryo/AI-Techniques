{
 "cells": [
  {
   "cell_type": "markdown",
   "metadata": {},
   "source": [
    "# Assignment 3 Task 1-SVM"
   ]
  },
  {
   "cell_type": "markdown",
   "metadata": {},
   "source": [
    "## Introduction\n",
    "\n",
    "This example will predict student result based on mid-semester exam score. On this problem we will use datasets of student exam fom kaggle (https://www.kaggle.com/shub99/student-marks). \n",
    "\n",
    "This datasets are simple and easy to implement also can relate to real-world problem. However, this datasets have less data which makes it hard to predict the accuracy. "
   ]
  },
  {
   "cell_type": "markdown",
   "metadata": {},
   "source": [
    "## Import pre-defined classes and packages.\n",
    "* heading.py includes basic methods required to run the program.\n",
    "* support_vector_machine.py is the configration of the support vector machine algorithm"
   ]
  },
  {
   "cell_type": "code",
   "execution_count": 1,
   "metadata": {},
   "outputs": [],
   "source": [
    "from heading import *\n",
    "from support_vector_machine import *"
   ]
  },
  {
   "cell_type": "markdown",
   "metadata": {},
   "source": [
    "## Practise the Support Vector Machine algorithm"
   ]
  },
  {
   "cell_type": "markdown",
   "metadata": {},
   "source": [
    "To train a SVM classifier, we need to go through the following steps:\n",
    "* Step 1: Load the dataset\n",
    "* Step 2: Convert the target list to numbers\n",
    "* Step 3: Prepare for the train data and test data\n",
    "* Step 4: Define an instance of SVM algorithm and train this SVM model\n",
    "* Step 5. Test this SVM model\n",
    "* Step 6. Apply this model to new samples"
   ]
  },
  {
   "cell_type": "markdown",
   "metadata": {},
   "source": [
    "## Step 1. Define the input dataset using the DataSet class from a given data file\n",
    "\n",
    "Dataset class is for modeling a dataset for a machine learning problem. It has the following atrributs/fields.\n",
    "\n",
    "* **examples**: Holds the items of the dataset. Each item is a list of values.\n",
    "\n",
    "* **attrs**: The indexes of the features (by default in the range of [0,f), where *f* is the number of features). For example, `item[i]` returns the feature at index *i* of *item*.\n",
    "\n",
    "* **attr_names**: An optional list with attribute names. For example, `item[s]`, where *s* is a feature name, returns the feature of name *s* in *item*.\n",
    "\n",
    "* **target**: The attribute a learning algorithm will try to predict. By default the last attribute.\n",
    "\n",
    "* **inputs**: This is the list of attributes without the target.\n",
    "\n",
    "* **values**: A list of lists which holds the set of possible values for the corresponding attribute/feature. If initially `None`, it gets computed (by the function `setproblem`) from the examples.\n",
    "* **distance**: A function from a pair of examples to a non-negative number.Should be symmetric, etc. Defaults to mean_boolean_error since that can handle any field types.\n",
    "\n",
    "* **name**: Name of the dataset.\n",
    "\n",
    "Its constructor is `Dataset( name=' ', target=' ', attr_names =' ' )`.\n",
    "\n",
    "Normally, we only need to call the constructor to create a dataset object. After we have a dataset object d, we can then access it's attributes/fields using d.field_name, such as d.examples and d.target and d.inputs.\n",
    "\n",
    "In this demo, we call the constructor of the DataSet class to create a dataset object from the input data file which should be stored in the directory of 'aima-data'. The name = `marks`,which is the name of datafile, target = `Pass`, attr_names = `Mid-Sem-Mark Pass`, "
   ]
  },
  {
   "cell_type": "code",
   "execution_count": 2,
   "metadata": {},
   "outputs": [],
   "source": [
    "marks = DataSet(name='marks',target='Pass', attr_names='Mid-Sem-Mark Pass')"
   ]
  },
  {
   "cell_type": "markdown",
   "metadata": {},
   "source": [
    "## Step 2. Convert the target list to numbers\n",
    "\n",
    "Create the target list using `dataset.values[dataset.target]`"
   ]
  },
  {
   "cell_type": "code",
   "execution_count": 3,
   "metadata": {},
   "outputs": [],
   "source": [
    "target_list = marks.values[marks.target]"
   ]
  },
  {
   "cell_type": "markdown",
   "metadata": {},
   "source": [
    "Convert the target list to numbers by the method iris.classes_to_numbers() ."
   ]
  },
  {
   "cell_type": "code",
   "execution_count": 4,
   "metadata": {},
   "outputs": [],
   "source": [
    "marks.classes_to_numbers(target_list)"
   ]
  },
  {
   "cell_type": "markdown",
   "metadata": {},
   "source": [
    "## Step 3. Prepare for the training data set and the test data set\n",
    "The training data set is represented by [train_data, train_label] while the test data set is represented by [test_data, test label], where train_data, train_label, test_data, and test label are lists."
   ]
  },
  {
   "cell_type": "code",
   "execution_count": 5,
   "metadata": {},
   "outputs": [],
   "source": [
    "train_data = []\n",
    "train_label = []\n",
    "test_data = []\n",
    "test_label= []"
   ]
  },
  {
   "cell_type": "markdown",
   "metadata": {},
   "source": [
    "The method `seperate_train_and_test_data(dataset.examples, number of test data)` can be used to generate select some data samples randomly from the input dataset as test data set. The rest of the input dataset will be the training data set. "
   ]
  },
  {
   "cell_type": "code",
   "execution_count": 6,
   "metadata": {},
   "outputs": [],
   "source": [
    "train_data, train_label, test_data, test_label = seperate_train_and_test_data(marks.examples, 30)"
   ]
  },
  {
   "cell_type": "markdown",
   "metadata": {},
   "source": [
    "Take two samples from the test set as the future data samples, called futureSample.\n",
    "\n",
    "\n",
    "To test student score with specific number, we can put it in futureSample_data:\n",
    "\n",
    "    *Replacing:\n",
    "        `futureSample_data = test_data[-2:]`.\n",
    "        \n",
    "    *To: \n",
    "        `futureSample_data = [[A],[B],[C],...]`\n",
    "A,B,C is the student score\n",
    "Result can be seen in Step 5"
   ]
  },
  {
   "cell_type": "code",
   "execution_count": 7,
   "metadata": {},
   "outputs": [],
   "source": [
    "futureSample_data = []\n",
    "futureSample_label = []\n",
    "futureSample_data = test_data[-2:]\n",
    "futureSampe_label = test_label[-2:]\n",
    "\n",
    "test_data = test_data[:-2]\n",
    "test_label = test_label[:-2]"
   ]
  },
  {
   "cell_type": "markdown",
   "metadata": {},
   "source": [
    "## Step 4. Train a SVM model\n",
    "\n",
    "Create a SVM classifier using SVM(), which is configured in support_vector_machine.py file.\n",
    "\n",
    "The kernel is rbf -- Radial basis function kernel, i.e., kernel= rbf;\n",
    "\n",
    "The default value for decision function shape,'ovr', i.e., decision_function_shape='ovr';"
   ]
  },
  {
   "cell_type": "code",
   "execution_count": 8,
   "metadata": {},
   "outputs": [],
   "source": [
    "svm = SVM()"
   ]
  },
  {
   "cell_type": "markdown",
   "metadata": {},
   "source": [
    "Train svm classifier using the training data set (train_data, train_label). "
   ]
  },
  {
   "cell_type": "code",
   "execution_count": 9,
   "metadata": {},
   "outputs": [
    {
     "data": {
      "text/plain": [
       "GridSearchCV(cv=3, estimator=SVC(C='rbf', class_weight='balanced'), n_jobs=-1,\n",
       "             param_grid=[{'C': array([3.1250e-02, 1.2500e-01, 5.0000e-01, 2.0000e+00, 8.0000e+00,\n",
       "       3.2000e+01, 1.2800e+02, 5.1200e+02, 2.0480e+03, 8.1920e+03,\n",
       "       3.2768e+04]),\n",
       "                          'gamma': array([1.953125e-03, 3.906250e-03, 7.812500e-03, 1.562500e-02,\n",
       "       3.125000e-02, 6.250000e-02, 1.250000e-01, 2.500000e-01,\n",
       "       5.000000e-01, 1.000000e+00, 2.000000e+00, 4.000000e+00,\n",
       "       8.000000e+00]),\n",
       "                          'kernel': ['rbf']}])"
      ]
     },
     "execution_count": 9,
     "metadata": {},
     "output_type": "execute_result"
    }
   ],
   "source": [
    "svm.fit(train_data, train_label)"
   ]
  },
  {
   "cell_type": "markdown",
   "metadata": {},
   "source": [
    "## Step 5. Test SVM classifier's performance using test data set\n",
    "Use the method predict() in the classifier to calculate the predicted values of test samples and then use the method test_accuracy() to calculate  the average accuracy as the holdout validation."
   ]
  },
  {
   "cell_type": "code",
   "execution_count": 10,
   "metadata": {},
   "outputs": [],
   "source": [
    "solution = svm.predict(test_data)"
   ]
  },
  {
   "cell_type": "code",
   "execution_count": 11,
   "metadata": {},
   "outputs": [
    {
     "name": "stdout",
     "output_type": "stream",
     "text": [
      "Accuracy: 82.14285714285714%\n"
     ]
    },
    {
     "data": {
      "text/plain": [
       "0.8214285714285714"
      ]
     },
     "execution_count": 11,
     "metadata": {},
     "output_type": "execute_result"
    }
   ],
   "source": [
    "test_accuracy(solution, test_label)"
   ]
  },
  {
   "cell_type": "markdown",
   "metadata": {},
   "source": [
    "## Step 6. Predict the class for the data samples in the future sample set"
   ]
  },
  {
   "cell_type": "code",
   "execution_count": 12,
   "metadata": {},
   "outputs": [
    {
     "name": "stdout",
     "output_type": "stream",
     "text": [
      "[74.49269242] [1]\n",
      "[99.31500881] [1]\n"
     ]
    }
   ],
   "source": [
    "for x in futureSample_data:\n",
    "    print(x,svm.predict([x]))"
   ]
  },
  {
   "cell_type": "code",
   "execution_count": null,
   "metadata": {},
   "outputs": [],
   "source": []
  },
  {
   "cell_type": "code",
   "execution_count": null,
   "metadata": {},
   "outputs": [],
   "source": []
  }
 ],
 "metadata": {
  "kernelspec": {
   "display_name": "Python 3",
   "language": "python",
   "name": "python3"
  },
  "language_info": {
   "codemirror_mode": {
    "name": "ipython",
    "version": 3
   },
   "file_extension": ".py",
   "mimetype": "text/x-python",
   "name": "python",
   "nbconvert_exporter": "python",
   "pygments_lexer": "ipython3",
   "version": "3.8.8"
  },
  "pycharm": {
   "stem_cell": {
    "cell_type": "raw",
    "metadata": {
     "collapsed": false
    },
    "source": []
   }
  }
 },
 "nbformat": 4,
 "nbformat_minor": 2
}
