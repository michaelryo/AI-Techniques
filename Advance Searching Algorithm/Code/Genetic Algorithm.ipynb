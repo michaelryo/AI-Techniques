{
 "cells": [
  {
   "cell_type": "markdown",
   "metadata": {
    "collapsed": true
   },
   "source": [
    "# Assignment 3 Task 5-Genetic Algoritm"
   ]
  },
  {
   "cell_type": "markdown",
   "metadata": {},
   "source": [
    "First import pre-defined classes and packages.\n",
    "* heading.py includes basic methods required to run the program, such as Problem class, Node class and some critical methods for implementing such as fitness funtions.\n",
    "* hill_climbing.py is the implementation of the hill climbing search algorithm."
   ]
  },
  {
   "cell_type": "code",
   "execution_count": 1,
   "metadata": {},
   "outputs": [],
   "source": [
    "from heading import *\n",
    "from genetic_algorithm import *"
   ]
  },
  {
   "cell_type": "markdown",
   "metadata": {},
   "source": [
    "This is all the coordinate for country in South East Asia (SEA)"
   ]
  },
  {
   "cell_type": "code",
   "execution_count": 2,
   "metadata": {},
   "outputs": [],
   "source": [
    "locations = dict(\n",
    "    Cambodia=(12.57, 104.99),\n",
    "    Laos=(19.86, 102.5),\n",
    "    Myanmar=(21.91, 95.96),\n",
    "    Thailand=(15.87, 100.99),\n",
    "    Vietnam=(14.06, 108.28),\n",
    "    Brunei=(4.54, 114.73),\n",
    "    Philippines=(12.88, 121.77),\n",
    "    Indonesia=(0, 113.92),\n",
    "    Malaysia=(4.21, 101.98),\n",
    "    Singapore=(1.35, 103.82),\n",
    "    TimorLeste=(-8.87, 125.73)\n",
    ")"
   ]
  },
  {
   "cell_type": "markdown",
   "metadata": {},
   "source": [
    "Call `define_map()` method with the dictionary of cities to calculate the distances between every pair of cities.This method returns two values, the first one, all_cities, is a list of all cities and the second one, distances, is a nested dictionary. You can use print() method to view what \"distance\" is between two cities."
   ]
  },
  {
   "cell_type": "code",
   "execution_count": 3,
   "metadata": {},
   "outputs": [],
   "source": [
    "all_cities, distances = define_map(locations)"
   ]
  },
  {
   "cell_type": "markdown",
   "metadata": {},
   "source": [
    "Set the start city/start node"
   ]
  },
  {
   "cell_type": "code",
   "execution_count": 4,
   "metadata": {},
   "outputs": [],
   "source": [
    "start_point = 'Indonesia'"
   ]
  },
  {
   "cell_type": "markdown",
   "metadata": {},
   "source": [
    "Define the fitness function. This function is problem specific. In this example, it calculates the distance of the given solution as the cost."
   ]
  },
  {
   "cell_type": "code",
   "execution_count": 5,
   "metadata": {},
   "outputs": [],
   "source": [
    "def fitness_fn(sample):\n",
    "    \"\"\" total distance for the Traveling Salesman to be covered if in sample  \"\"\"\n",
    "    cost = 0\n",
    "    for i in range(len(sample) - 1):\n",
    "        cost += distances[sample[i]][sample[i + 1]]\n",
    "    cost += distances[sample[0]][sample[-1]]\n",
    "    return cost"
   ]
  },
  {
   "cell_type": "markdown",
   "metadata": {},
   "source": [
    "### Genetic Algorithm\n",
    "This algorithm needs the following information:\n",
    "* A fitness function\n",
    "* A gene pool\n",
    "* A maximum population size\n",
    "* A mutation rate."
   ]
  },
  {
   "cell_type": "markdown",
   "metadata": {},
   "source": [
    "Generate the gene pool, using all the cities, \n",
    "\n",
    "which are the possible values of each individual in a solution."
   ]
  },
  {
   "cell_type": "code",
   "execution_count": 6,
   "metadata": {},
   "outputs": [],
   "source": [
    "gene_pool = all_cities"
   ]
  },
  {
   "cell_type": "markdown",
   "metadata": {},
   "source": [
    "Specify the maximum population size (eg. max_population), say 100. "
   ]
  },
  {
   "cell_type": "code",
   "execution_count": 7,
   "metadata": {},
   "outputs": [],
   "source": [
    "max_population = 100"
   ]
  },
  {
   "cell_type": "markdown",
   "metadata": {},
   "source": [
    "Use the method \n",
    "\n",
    "`init_population_for_Non_Duplication(size-population, gene-pool, number-of-elements-in-gene-pool)`\n",
    "\n",
    "'which can be found in genetic_algoithm.py, to generate the intial population."
   ]
  },
  {
   "cell_type": "code",
   "execution_count": 8,
   "metadata": {},
   "outputs": [],
   "source": [
    "population = init_population_for_Non_Duplication(max_population,\n",
    "                                                 gene_pool,\n",
    "                                                 len(gene_pool))"
   ]
  },
  {
   "cell_type": "markdown",
   "metadata": {},
   "source": [
    "Specify the mutation rate (eg. mutation_rate)."
   ]
  },
  {
   "cell_type": "code",
   "execution_count": 9,
   "metadata": {},
   "outputs": [],
   "source": [
    "mutation_rate = 0.5"
   ]
  },
  {
   "cell_type": "markdown",
   "metadata": {},
   "source": [
    "The maximum number of generations ( ngen ) = 500\n",
    "\n",
    "and the threshold of the fitness function ( f_thres) = 110"
   ]
  },
  {
   "cell_type": "code",
   "execution_count": 10,
   "metadata": {},
   "outputs": [],
   "source": [
    "ngen = 500\n",
    "f_thres = 110"
   ]
  },
  {
   "cell_type": "markdown",
   "metadata": {},
   "source": [
    "Invoke the GA algorithm \n",
    "\n",
    "`genetic_algorithm(population, fitness-function, gene-pool, fitness-function-threshold, max-number-generation-to-run, mutation-rate, start-point)`"
   ]
  },
  {
   "cell_type": "code",
   "execution_count": 11,
   "metadata": {},
   "outputs": [
    {
     "name": "stdout",
     "output_type": "stream",
     "text": [
      "Current best: ['Indonesia', 'TimorLeste', 'Cambodia', 'Vietnam', 'Malaysia', 'Laos', 'Myanmar', 'Thailand', 'Philippines', 'Singapore', 'Brunei', 'Indonesia']\t\tGeneration: 499\t\tFitness: 148.58314370612658\r"
     ]
    }
   ],
   "source": [
    "solution, generation = genetic_algorithm(population,\n",
    "                  fitness_fn,\n",
    "                  gene_pool,\n",
    "                  f_thres,\n",
    "                  ngen,\n",
    "                  mutation_rate,\n",
    "                  start_point)"
   ]
  },
  {
   "cell_type": "code",
   "execution_count": null,
   "metadata": {},
   "outputs": [],
   "source": []
  }
 ],
 "metadata": {
  "kernelspec": {
   "display_name": "Python 3",
   "language": "python",
   "name": "python3"
  },
  "language_info": {
   "codemirror_mode": {
    "name": "ipython",
    "version": 3
   },
   "file_extension": ".py",
   "mimetype": "text/x-python",
   "name": "python",
   "nbconvert_exporter": "python",
   "pygments_lexer": "ipython3",
   "version": "3.8.8"
  },
  "pycharm": {
   "stem_cell": {
    "cell_type": "raw",
    "metadata": {
     "collapsed": false
    },
    "source": []
   }
  },
  "widgets": {
   "state": {
    "1516e2501ddd4a2e8e3250bffc0164db": {
     "views": [
      {
       "cell_index": 59
      }
     ]
    },
    "17be64c89a9a4a43b3272cb018df0970": {
     "views": [
      {
       "cell_index": 59
      }
     ]
    },
    "ac05040009a340b0af81b0ee69161fbc": {
     "views": [
      {
       "cell_index": 59
      }
     ]
    },
    "d9735ffe77c24f13ae4ad3620ce84334": {
     "views": [
      {
       "cell_index": 59
      }
     ]
    }
   },
   "version": "1.2.0"
  }
 },
 "nbformat": 4,
 "nbformat_minor": 1
}
