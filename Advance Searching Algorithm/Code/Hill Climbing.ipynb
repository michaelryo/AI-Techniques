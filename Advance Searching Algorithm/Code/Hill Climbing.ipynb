{
 "cells": [
  {
   "cell_type": "markdown",
   "metadata": {
    "collapsed": true
   },
   "source": [
    "# Assignment 3 Task 5-Hill Climbing"
   ]
  },
  {
   "cell_type": "markdown",
   "metadata": {},
   "source": [
    "First import pre-defined classes and packages.\n",
    "* heading.py includes basic methods required to run the program, such as Problem class, Node class and some critical methods for implementing such as fitness funtions.\n",
    "* hill_climbing.py is the implementation of the hill climbing search algorithm."
   ]
  },
  {
   "cell_type": "code",
   "execution_count": 1,
   "metadata": {},
   "outputs": [],
   "source": [
    "from heading import *\n",
    "from hill_climbing import *"
   ]
  },
  {
   "cell_type": "markdown",
   "metadata": {},
   "source": [
    "This is all the coordinate for country in South East Asia (SEA)"
   ]
  },
  {
   "cell_type": "code",
   "execution_count": 2,
   "metadata": {},
   "outputs": [],
   "source": [
    "locations = dict(\n",
    "    Cambodia=(12.57, 104.99),\n",
    "    Laos=(19.86, 102.5),\n",
    "    Myanmar=(21.91, 95.96),\n",
    "    Thailand=(15.87, 100.99),\n",
    "    Vietnam=(14.06, 108.28),\n",
    "    Brunei=(4.54, 114.73),\n",
    "    Philippines=(12.88, 121.77),\n",
    "    Indonesia=(0, 113.92),\n",
    "    Malaysia=(4.21, 101.98),\n",
    "    Singapore=(1.35, 103.82),\n",
    "    TimorLeste=(-8.87, 125.73)\n",
    ")"
   ]
  },
  {
   "cell_type": "markdown",
   "metadata": {},
   "source": [
    "Then, you need to call `define_map()` method with the dictionary of cities to calculate the distances between every pair of cities.This method returns two values, the first one, all_cities, is a list of all cities and the second one, distances, is a nested dictionary. You can use print() method to view what \"distance\" is between two cities."
   ]
  },
  {
   "cell_type": "code",
   "execution_count": 3,
   "metadata": {},
   "outputs": [
    {
     "name": "stdout",
     "output_type": "stream",
     "text": [
      "{'Cambodia': (12.57, 104.99), 'Laos': (19.86, 102.5), 'Myanmar': (21.91, 95.96), 'Thailand': (15.87, 100.99), 'Vietnam': (14.06, 108.28), 'Brunei': (4.54, 114.73), 'Philippines': (12.88, 121.77), 'Indonesia': (0, 113.92), 'Malaysia': (4.21, 101.98), 'Singapore': (1.35, 103.82), 'TimorLeste': (-8.87, 125.73)}\n"
     ]
    }
   ],
   "source": [
    "all_cities, distances = define_map(locations)\n",
    "print(locations)"
   ]
  },
  {
   "cell_type": "markdown",
   "metadata": {},
   "source": [
    "Set the start city/start node"
   ]
  },
  {
   "cell_type": "code",
   "execution_count": 4,
   "metadata": {},
   "outputs": [],
   "source": [
    "start_point = 'Laos'"
   ]
  },
  {
   "cell_type": "markdown",
   "metadata": {},
   "source": [
    "Define a neighbour function which takes a state, and returns the neighbours of the given state in this problem."
   ]
  },
  {
   "cell_type": "code",
   "execution_count": 5,
   "metadata": {},
   "outputs": [],
   "source": [
    "def neighbour(state):\n",
    "    \"\"\" Neighbour generating function for Traveling Salesman Problem \"\"\"\n",
    "    neighbour_state = state[:]\n",
    "    left = random.randint(1, len(neighbour_state) - 1)\n",
    "    right = random.randint(1, len(neighbour_state) - 1)\n",
    "    if left > right:\n",
    "        left, right = right, left\n",
    "    neighbour_state[left: right + 1] = reversed(neighbour_state[left: right + 1])\n",
    "    return neighbour_state"
   ]
  },
  {
   "cell_type": "markdown",
   "metadata": {},
   "source": [
    "Define a cost function which takes a state and returns the cost. In some problems, an equivalent function, fitness function or objective function is used. These functions provide information about how well the given solution is in the context of given problem. In this example, the cost is the distances in the given path, starting from the start city and ending with the start city."
   ]
  },
  {
   "cell_type": "code",
   "execution_count": 6,
   "metadata": {},
   "outputs": [],
   "source": [
    "def cost_fun(state):\n",
    "    \"\"\" total distance for the Traveling Salesman to be covered if in state  \"\"\"\n",
    "    cost = 0\n",
    "    for i in range(len(state) - 1):\n",
    "        cost += distances[state[i]][state[i + 1]]\n",
    "    cost += distances[state[0]][state[-1]]\n",
    "    return cost"
   ]
  },
  {
   "cell_type": "markdown",
   "metadata": {},
   "source": [
    "Define a function to generate an initial solution based on all the cities given and the start city."
   ]
  },
  {
   "cell_type": "code",
   "execution_count": 7,
   "metadata": {},
   "outputs": [],
   "source": [
    "def define_init(city_list, start_point):\n",
    "    init_citylist = city_list[:]\n",
    "    init_citylist.remove(start_point)\n",
    "    init_citylist.insert(0, start_point)\n",
    "    return init_citylist"
   ]
  },
  {
   "cell_type": "markdown",
   "metadata": {},
   "source": [
    "### Hill Climbing\n",
    "In order to invoke this algorithm, you need the following information: \n",
    "* an initial solution\n",
    "* The neighbour function to generate the neighbour states of a given state\n",
    "* The cost/objective function to assess how fit a state is\n",
    "* Termination criteria: the maximum number of iterations is reached or the current solutuin has not changed for n_times (eg.100) consecutive times. The termination criteria can affect the final solution."
   ]
  },
  {
   "cell_type": "markdown",
   "metadata": {},
   "source": [
    "Call the function define_init(city_list, start_point) to generate an initial solution using all the cities and the start city in this problem."
   ]
  },
  {
   "cell_type": "code",
   "execution_count": 8,
   "metadata": {},
   "outputs": [],
   "source": [
    "init = define_init(all_cities, start_point)"
   ]
  },
  {
   "cell_type": "markdown",
   "metadata": {},
   "source": [
    "Specify the max number of iterations (`max_iteration = 1000` ) as s part of termination criteria\n",
    "\n",
    "a number of consecutive times (`n_times = 500`) used to judge if the search terminates"
   ]
  },
  {
   "cell_type": "code",
   "execution_count": 9,
   "metadata": {},
   "outputs": [],
   "source": [
    "max_iteration = 1000\n",
    "n_times = 500"
   ]
  },
  {
   "cell_type": "markdown",
   "metadata": {},
   "source": [
    "Invoke the hill-climbing algorithm \n",
    "\n",
    "`hill_climbing(initial-solution, neighbour-function, cost-fun, number-of-consecutive-times-to-run-before-the-process-terminates, max-number-of-iterations, start-city)`"
   ]
  },
  {
   "cell_type": "code",
   "execution_count": 10,
   "metadata": {},
   "outputs": [
    {
     "name": "stdout",
     "output_type": "stream",
     "text": [
      "['Laos', 'Thailand', 'Cambodia', 'Vietnam', 'Philippines', 'TimorLeste', 'Indonesia', 'Brunei', 'Singapore', 'Malaysia', 'Myanmar', 'Laos'] 108.4112291363032\n"
     ]
    }
   ],
   "source": [
    "solution, cost = hill_climbing(init,\n",
    "              neighbour,\n",
    "              cost_fun,\n",
    "              n_times,\n",
    "              max_iteration,\n",
    "              start_point)\n",
    "print(solution,cost)"
   ]
  },
  {
   "cell_type": "code",
   "execution_count": null,
   "metadata": {},
   "outputs": [],
   "source": []
  }
 ],
 "metadata": {
  "kernelspec": {
   "display_name": "Python 3",
   "language": "python",
   "name": "python3"
  },
  "language_info": {
   "codemirror_mode": {
    "name": "ipython",
    "version": 3
   },
   "file_extension": ".py",
   "mimetype": "text/x-python",
   "name": "python",
   "nbconvert_exporter": "python",
   "pygments_lexer": "ipython3",
   "version": "3.8.8"
  },
  "pycharm": {
   "stem_cell": {
    "cell_type": "raw",
    "metadata": {
     "collapsed": false
    },
    "source": []
   }
  },
  "widgets": {
   "state": {
    "1516e2501ddd4a2e8e3250bffc0164db": {
     "views": [
      {
       "cell_index": 59
      }
     ]
    },
    "17be64c89a9a4a43b3272cb018df0970": {
     "views": [
      {
       "cell_index": 59
      }
     ]
    },
    "ac05040009a340b0af81b0ee69161fbc": {
     "views": [
      {
       "cell_index": 59
      }
     ]
    },
    "d9735ffe77c24f13ae4ad3620ce84334": {
     "views": [
      {
       "cell_index": 59
      }
     ]
    }
   },
   "version": "1.2.0"
  }
 },
 "nbformat": 4,
 "nbformat_minor": 1
}
